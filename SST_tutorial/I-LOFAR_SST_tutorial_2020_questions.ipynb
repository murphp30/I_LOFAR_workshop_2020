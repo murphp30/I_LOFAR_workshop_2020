{
 "cells": [
  {
   "cell_type": "markdown",
   "metadata": {},
   "source": [
    "# I-LOFAR SST Tutorial "
   ]
  },
  {
   "cell_type": "markdown",
   "metadata": {},
   "source": [
    "This tutorial is based on that of Derek McKay and can be found [here](https://www.dropbox.com/s/cgcn1nbqylzq8fe/KAIRA-UIT-DAT-506.zip?dl=0) for further reference. \n",
    "\n",
    "The following tutorial is aimed at familiarising the user with subband statistics (SST) data produced by the I-LOFAR station. SST data is the average power per subband that an antenna (or set of antennas) receives, integrated over a specified time period.\n",
    "\n",
    "SST data is a useful diagnostic tool for inspecting the station's radio environment and identifying possible sources of RFI (Radio Frequency Interference). \n",
    "\n"
   ]
  },
  {
   "cell_type": "markdown",
   "metadata": {},
   "source": [
    "## Exercise 1: Inspecting an SST file"
   ]
  },
  {
   "cell_type": "code",
   "execution_count": null,
   "metadata": {},
   "outputs": [],
   "source": [
    "#importing Python modules\n",
    "import os\n",
    "import sys\n",
    "import struct\n",
    "import numpy as np\n",
    "import matplotlib.pyplot as plt\n",
    "import glob"
   ]
  },
  {
   "cell_type": "markdown",
   "metadata": {},
   "source": [
    "List the contents of the directory 'SST_data'and inspect the filenames. \n",
    "Remember SST files contain no header information. \n",
    "\n",
    ">**What information can we gather about the SST file from its name?**"
   ]
  },
  {
   "cell_type": "code",
   "execution_count": null,
   "metadata": {},
   "outputs": [],
   "source": [
    "input_dir=\"/Users/aoiferyan/Documents/presentations/I-LOFAR_Workshop_March_2020/SST_tutorial/\"\n",
    "!ls {input_dir + 'SST_data'}"
   ]
  },
  {
   "cell_type": "markdown",
   "metadata": {},
   "source": [
    "Now to have a look at what's inside one of these SST files...\n",
    "\n",
    "> **(1) Get the file size (using python package os)**\n",
    "\n",
    "> **(2) Knowing this observation was in 8-bit mode, can you calculate the actual length of the data? (Hint: This observation was made in 8-bit mode.)**\n",
    "\n",
    "> **(3) As there are 512 subbands in each mode, can you find out the number of timesteps?**"
   ]
  },
  {
   "cell_type": "code",
   "execution_count": null,
   "metadata": {},
   "outputs": [],
   "source": [
    "filename = *\n",
    "filelen = *\n",
    "datalen = *\n",
    "num_subbands = 512\n",
    "num_records = datalen//*\n",
    "\n",
    "print('Filename = ', filename)\n",
    "print('File Length = ', filelen)\n",
    "print('Length of Array = ', datalen)\n",
    "print('Number of timesteps = ', num_records)\n"
   ]
  },
  {
   "cell_type": "markdown",
   "metadata": {},
   "source": [
    "As there is no header information provided by an SST file, one would have to know the integration or duration of the observation in order to determine the number of seconds represented by a single timestep.\n",
    "The default is 1 second integration, which has been used for this observation. "
   ]
  },
  {
   "cell_type": "markdown",
   "metadata": {},
   "source": [
    "## Exercise 2: Plotting a 1-D spectrum"
   ]
  },
  {
   "cell_type": "markdown",
   "metadata": {},
   "source": [
    "Now that we have found out some details about our SST we want to plot a 1-dimensional spectrum in order to inspect further. \n",
    "\n",
    "> **Firstly, open the file and unpack its contents. Print the length of the array.**\n",
    "(**_Hint: Python's \"struct.unpack\" will help you here_**)"
   ]
  },
  {
   "cell_type": "code",
   "execution_count": null,
   "metadata": {},
   "outputs": [],
   "source": [
    "# Read the contents of the file\n",
    "fp = open(*, 'rb')\n",
    "datastruct = str(datalen)+'d'\n",
    "dataraw = struct.unpack(datastruct,fp.read(filelen))\n",
    "fp.close()\n",
    "\n",
    "print(*)"
   ]
  },
  {
   "cell_type": "markdown",
   "metadata": {},
   "source": [
    "This is a 1-dimensional array or list of numbers. We want to shape this so that it is a 2-dimensional array. \n",
    "\n",
    "> **Reshape the 1-dimensional array so that it's shape reflects the number of timesteps and number of subbands we found in Exercise 1. (Hint: Python's 'numpy reshape' will help you here.)**\n",
    "\n",
    "> **Print the shape of the new 2-dimensional array.**"
   ]
  },
  {
   "cell_type": "code",
   "execution_count": null,
   "metadata": {},
   "outputs": [],
   "source": [
    "# Re-organise the raw data into a 2D array\n"
   ]
  },
  {
   "cell_type": "markdown",
   "metadata": {},
   "source": [
    "From looking at the shape of the 2-D array above we can see that time is on the x-axis and subband number is on the y-axis. However, it is typical to have the subbands displayed on the x-axis. \n",
    "> **Transpose the 2-D array so that time is now on the y-axis and subband number is on the x-axis. Print the array shape to make sure it was completed correctly. (Hint: Again, a Python package can help you here!)**"
   ]
  },
  {
   "cell_type": "code",
   "execution_count": null,
   "metadata": {},
   "outputs": [],
   "source": [
    "# Switch the axes, so that xaxis=sample (i.e. time) and yaxis=subbands (freq.)\n"
   ]
  },
  {
   "cell_type": "markdown",
   "metadata": {},
   "source": [
    "In order to display the spectrum we need to average over the integration time. \n",
    ">**Average over the y-axis.**"
   ]
  },
  {
   "cell_type": "code",
   "execution_count": null,
   "metadata": {},
   "outputs": [],
   "source": [
    "# Average the data in the time-axis\n"
   ]
  },
  {
   "cell_type": "markdown",
   "metadata": {},
   "source": [
    "It's now time to plot!!\n",
    "\n",
    ">**Plot the averaged intensity using Python's Matplotlib.**"
   ]
  },
  {
   "cell_type": "code",
   "execution_count": null,
   "metadata": {},
   "outputs": [],
   "source": [
    "# Plot the results\n"
   ]
  },
  {
   "cell_type": "markdown",
   "metadata": {},
   "source": [
    "Now you have a spectrum! However, many of the features are somewhat difficult to distinguish. \n",
    "\n",
    ">**Can you think of a way of plotting the data so that the smaller features are enhanced?**\n",
    "\n",
    "> **Implement and plot again, this time remember to label your axes!**\n",
    "\n",
    "> **Save the figure to your working directory.**"
   ]
  },
  {
   "cell_type": "code",
   "execution_count": null,
   "metadata": {},
   "outputs": [],
   "source": []
  },
  {
   "cell_type": "code",
   "execution_count": null,
   "metadata": {},
   "outputs": [],
   "source": []
  },
  {
   "cell_type": "markdown",
   "metadata": {},
   "source": [
    "## Exercise 3: Identifying different observing modes"
   ]
  },
  {
   "cell_type": "markdown",
   "metadata": {},
   "source": [
    "It is now time to repeat this process for each of the other files in the directory 'SST_data'. \n",
    ">**Produce a plot for each SST file and save to your working directory**\n",
    "\n",
    ">**What are the differences between the plots?**\n",
    "\n",
    ">**Even though there is no header information, can you identify which mode each file corresponds to?**"
   ]
  },
  {
   "cell_type": "code",
   "execution_count": null,
   "metadata": {},
   "outputs": [],
   "source": []
  },
  {
   "cell_type": "code",
   "execution_count": null,
   "metadata": {},
   "outputs": [],
   "source": []
  },
  {
   "cell_type": "code",
   "execution_count": null,
   "metadata": {},
   "outputs": [],
   "source": []
  },
  {
   "cell_type": "markdown",
   "metadata": {},
   "source": [
    "As discussed at the beginning of this session, each of these modes corresponds to a different frequency range. \n",
    "> **Using Table 1 below can you change the x-axis of each of the spectra above to more accurately represent the data and its frequency range.**\n",
    "\n",
    "> **Additionally, try plotting all three modes on the same plot with the correct x-axis.**\n",
    "\n",
    "| Mode | Frequency Range (MHz) |\n",
    "| --- | --- |\n",
    "| 3 | 10-90 |\n",
    "| 4 | 30-90 |\n",
    "| 5 | 110-190 |\n",
    "| 6 | 170-230 |\n",
    "| 7 | 210-270 |\n",
    "Table 1."
   ]
  },
  {
   "cell_type": "code",
   "execution_count": null,
   "metadata": {},
   "outputs": [],
   "source": []
  },
  {
   "cell_type": "code",
   "execution_count": null,
   "metadata": {},
   "outputs": [],
   "source": []
  },
  {
   "cell_type": "markdown",
   "metadata": {},
   "source": [
    "## Exercise 4: Mode 6"
   ]
  },
  {
   "cell_type": "markdown",
   "metadata": {},
   "source": [
    "Next task is to have a look at mode 6. \n",
    ">**Repeat the steps above to plot the spectrum for mode 6, sst file found at 'SST/mode6/'.**\n",
    "\n",
    ">**Estimate the usable frequency range of RCU Mode 6.** \n",
    "\n",
    ">**As mentioned earlier, mode 6 is unique as it uses a different sampling clock frequency. What is the bandwidth of a single subband with sampling clock frequency of 160MHz and 200 MHz?**\n"
   ]
  },
  {
   "cell_type": "code",
   "execution_count": null,
   "metadata": {
    "scrolled": true
   },
   "outputs": [],
   "source": []
  },
  {
   "cell_type": "markdown",
   "metadata": {},
   "source": [
    "## Exercise 5: Comparing data from different stations"
   ]
  },
  {
   "cell_type": "markdown",
   "metadata": {},
   "source": [
    "Subband statistics are very useful for RFI (Radio Frequency Interference) identification. From looking at specta one can identify if a source of RFI is long-lived or transient and at what frequency it occurs. In general, I-LOFAR experiences a very quiet radio environment. In order to test this, let's compare I-LOFAR to another station, KAIRA. The Kilpisjärvi Atmospheric Imaging Receiver Array (KAIRA) is a radio telescope located in north-west Finland. It is used for geophysical and astronomical research (Vierinen et al., 2012). It was constructed using the same hardware technology as LOFAR, but is not part of the LOFAR network.\n",
    "\n",
    ">**Plot the KAIRA spectrum, 'SST_data/KAIRA/20140430_153356_sst_rcu064.dat'.**\n",
    "\n",
    ">**What mode was this observation made with?**\n",
    "\n",
    ">**Modify your script to plot a I-LOFAR spectrum in the same mode on the same plot.**\n",
    "\n",
    ">**Can you identify any RFI in either of the two spectra? What frequencies?**"
   ]
  },
  {
   "cell_type": "code",
   "execution_count": null,
   "metadata": {},
   "outputs": [],
   "source": []
  },
  {
   "cell_type": "markdown",
   "metadata": {},
   "source": [
    ">**Repeat the above steps for SST_DATA/KAIRA/20130326_001420_sst_rcu080.dat and plot the spectrum on the same figure as above.**\n",
    "\n",
    ">**This is also a spectrum from KAIRA. Does it look the same? Are there any differences?**\n",
    "\n",
    ">**What is the reason for any differences observed? (Hint: at what frequency are these differences occurring?)**\n",
    "\n",
    "\n"
   ]
  },
  {
   "cell_type": "code",
   "execution_count": null,
   "metadata": {},
   "outputs": [],
   "source": []
  },
  {
   "cell_type": "markdown",
   "metadata": {},
   "source": [
    "## Exercise X: Troubleshooting SST data"
   ]
  },
  {
   "cell_type": "markdown",
   "metadata": {},
   "source": [
    "The next task is to plot the spectrum for the mode 6 observation '20181012_112017_sst_rcu000.dat'. You will notice that some changes will have to be made to the script used before as the file structure is not exactly the same. This is an example of the challenges faced when you have a file with no header information. \n",
    "\n",
    ">**Plot the 1-D spectrum for 'SST_DATA/exercise_x_20181012_112017_sst_rcu000.dat'**\n",
    "\n",
    ">**Why can't you use the same script as before to plot this spectrum?**\n",
    "\n",
    ">**Can you determine the observing mode of this spectrum?**\n",
    "\n",
    ">**Can you find the frequency of any RFI present in the spectrum?**"
   ]
  },
  {
   "cell_type": "code",
   "execution_count": null,
   "metadata": {},
   "outputs": [],
   "source": []
  }
 ],
 "metadata": {
  "kernelspec": {
   "display_name": "Python 3",
   "language": "python",
   "name": "python3"
  },
  "language_info": {
   "codemirror_mode": {
    "name": "ipython",
    "version": 3
   },
   "file_extension": ".py",
   "mimetype": "text/x-python",
   "name": "python",
   "nbconvert_exporter": "python",
   "pygments_lexer": "ipython3",
   "version": "3.6.7"
  }
 },
 "nbformat": 4,
 "nbformat_minor": 2
}
